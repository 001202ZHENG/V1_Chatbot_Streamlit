{
 "cells": [
  {
   "cell_type": "code",
   "execution_count": 3,
   "metadata": {},
   "outputs": [],
   "source": [
    "import streamlit as st\n",
    "import pandas as pd\n",
    "import plotly.express as px\n",
    "import numpy as np\n",
    "import seaborn as sns\n",
    "import matplotlib.pyplot as plt\n",
    "import os"
   ]
  },
  {
   "cell_type": "code",
   "execution_count": 4,
   "metadata": {},
   "outputs": [],
   "source": [
    "def load_data():\n",
    "    # the path needs to change to a GitHub path\n",
    "    file_name = 'data.xlsx'\n",
    "    current_directory = os.getcwd()\n",
    "    file_path = os.path.join(current_directory, file_name)\n",
    "    data = pd.read_excel(file_path) \n",
    "    data = data.rename(columns={\n",
    "    'What is your role at the company ?': 'Role',\n",
    "    'What function are you part of ?': 'Function',\n",
    "    'Where are you located ?': 'Location'\n",
    "    })\n",
    "    return data\n",
    "data = load_data()"
   ]
  },
  {
   "cell_type": "code",
   "execution_count": 6,
   "metadata": {},
   "outputs": [
    {
     "data": {
      "text/html": [
       "<div>\n",
       "<style scoped>\n",
       "    .dataframe tbody tr th:only-of-type {\n",
       "        vertical-align: middle;\n",
       "    }\n",
       "\n",
       "    .dataframe tbody tr th {\n",
       "        vertical-align: top;\n",
       "    }\n",
       "\n",
       "    .dataframe thead th {\n",
       "        text-align: right;\n",
       "    }\n",
       "</style>\n",
       "<table border=\"1\" class=\"dataframe\">\n",
       "  <thead>\n",
       "    <tr style=\"text-align: right;\">\n",
       "      <th></th>\n",
       "      <th>ID</th>\n",
       "      <th>Start time</th>\n",
       "      <th>Completion time</th>\n",
       "      <th>Email</th>\n",
       "      <th>Name</th>\n",
       "      <th>Last modified time</th>\n",
       "      <th>Role</th>\n",
       "      <th>Function</th>\n",
       "      <th>Location</th>\n",
       "      <th>What HR processes do you interact with the most in your day-to-day work ?</th>\n",
       "      <th>...</th>\n",
       "      <th>Does the system allow employees to view their vacation counters (entitlement / taken / balance)?</th>\n",
       "      <th>Does your system cover all the shift scheduling functions you need?</th>\n",
       "      <th>Do you have the capability to run all the report needed ?</th>\n",
       "      <th>According to you, what functionalities are missing from your current system ?</th>\n",
       "      <th>Does the system allow employees to take their own leave, with workflow validation by their manager or HR?</th>\n",
       "      <th>Does your system automatically take retroactive items into account (e.g. application to April payroll of a salary increase with an effective date of January 1)?</th>\n",
       "      <th>In the context of your job, what are the most valuable activities your current HRIS enable you to do?</th>\n",
       "      <th>In the context of your job, what do your current HRIS fail to address?</th>\n",
       "      <th>Do you consider the time you spend on your HRIS to be time well spent?</th>\n",
       "      <th>In 3 words, how would you describe your current user-experience with the HRIS ?</th>\n",
       "    </tr>\n",
       "  </thead>\n",
       "  <tbody>\n",
       "    <tr>\n",
       "      <th>0</th>\n",
       "      <td>4</td>\n",
       "      <td>2024-02-20 18:59:59</td>\n",
       "      <td>2024-02-20 19:05:52</td>\n",
       "      <td>anonymous</td>\n",
       "      <td>NaN</td>\n",
       "      <td>NaN</td>\n",
       "      <td>Trainee</td>\n",
       "      <td>Operations</td>\n",
       "      <td>Asia</td>\n",
       "      <td>Absences;Admin;</td>\n",
       "      <td>...</td>\n",
       "      <td>NaN</td>\n",
       "      <td>NaN</td>\n",
       "      <td>NaN</td>\n",
       "      <td>NaN</td>\n",
       "      <td>NaN</td>\n",
       "      <td>NaN</td>\n",
       "      <td>take paid leaves</td>\n",
       "      <td>NaN</td>\n",
       "      <td>Yes</td>\n",
       "      <td>user-friendly, efficient, fast</td>\n",
       "    </tr>\n",
       "    <tr>\n",
       "      <th>1</th>\n",
       "      <td>5</td>\n",
       "      <td>2024-02-20 19:05:56</td>\n",
       "      <td>2024-02-20 19:14:45</td>\n",
       "      <td>anonymous</td>\n",
       "      <td>NaN</td>\n",
       "      <td>NaN</td>\n",
       "      <td>Head of Business Unit</td>\n",
       "      <td>Finance &amp; Accounting</td>\n",
       "      <td>Europe</td>\n",
       "      <td>Performance;Talent ;Admin;</td>\n",
       "      <td>...</td>\n",
       "      <td>NaN</td>\n",
       "      <td>NaN</td>\n",
       "      <td>NaN</td>\n",
       "      <td>NaN</td>\n",
       "      <td>NaN</td>\n",
       "      <td>NaN</td>\n",
       "      <td>following my team's day-to-day activity and</td>\n",
       "      <td>lack of customization for my needs</td>\n",
       "      <td>No</td>\n",
       "      <td>complete, not very intuitive</td>\n",
       "    </tr>\n",
       "    <tr>\n",
       "      <th>2</th>\n",
       "      <td>6</td>\n",
       "      <td>2024-02-20 19:15:00</td>\n",
       "      <td>2024-02-20 19:21:26</td>\n",
       "      <td>anonymous</td>\n",
       "      <td>NaN</td>\n",
       "      <td>NaN</td>\n",
       "      <td>Trainee</td>\n",
       "      <td>Customer Service Support</td>\n",
       "      <td>North America</td>\n",
       "      <td>Onboading;Performance;Absences;</td>\n",
       "      <td>...</td>\n",
       "      <td>NaN</td>\n",
       "      <td>NaN</td>\n",
       "      <td>NaN</td>\n",
       "      <td>NaN</td>\n",
       "      <td>NaN</td>\n",
       "      <td>NaN</td>\n",
       "      <td>time management and access to trainings</td>\n",
       "      <td>performance / career development planning</td>\n",
       "      <td>No</td>\n",
       "      <td>complex, complete, not intuitive</td>\n",
       "    </tr>\n",
       "    <tr>\n",
       "      <th>3</th>\n",
       "      <td>7</td>\n",
       "      <td>2024-02-20 19:21:45</td>\n",
       "      <td>2024-02-20 19:26:07</td>\n",
       "      <td>anonymous</td>\n",
       "      <td>NaN</td>\n",
       "      <td>NaN</td>\n",
       "      <td>Head of Business Unit</td>\n",
       "      <td>Human Resources</td>\n",
       "      <td>Asia</td>\n",
       "      <td>Recruiting;Mobility;Performance;Talent ;Compen...</td>\n",
       "      <td>...</td>\n",
       "      <td>NaN</td>\n",
       "      <td>NaN</td>\n",
       "      <td>NaN</td>\n",
       "      <td>NaN</td>\n",
       "      <td>NaN</td>\n",
       "      <td>NaN</td>\n",
       "      <td>performance reviews, training, resource manage...</td>\n",
       "      <td>time management</td>\n",
       "      <td>Yes</td>\n",
       "      <td>intuitive, efficient, empowering</td>\n",
       "    </tr>\n",
       "    <tr>\n",
       "      <th>4</th>\n",
       "      <td>8</td>\n",
       "      <td>2024-02-20 20:40:56</td>\n",
       "      <td>2024-02-20 20:48:12</td>\n",
       "      <td>anonymous</td>\n",
       "      <td>NaN</td>\n",
       "      <td>NaN</td>\n",
       "      <td>Trainee</td>\n",
       "      <td>Legal &amp; Compliance</td>\n",
       "      <td>Europe</td>\n",
       "      <td>None;</td>\n",
       "      <td>...</td>\n",
       "      <td>NaN</td>\n",
       "      <td>NaN</td>\n",
       "      <td>NaN</td>\n",
       "      <td>NaN</td>\n",
       "      <td>NaN</td>\n",
       "      <td>NaN</td>\n",
       "      <td>taking leaves</td>\n",
       "      <td>administrative / personnal information</td>\n",
       "      <td>No</td>\n",
       "      <td>complex, not intuitive, useless</td>\n",
       "    </tr>\n",
       "  </tbody>\n",
       "</table>\n",
       "<p>5 rows × 73 columns</p>\n",
       "</div>"
      ],
      "text/plain": [
       "   ID          Start time     Completion time      Email  Name  \\\n",
       "0   4 2024-02-20 18:59:59 2024-02-20 19:05:52  anonymous   NaN   \n",
       "1   5 2024-02-20 19:05:56 2024-02-20 19:14:45  anonymous   NaN   \n",
       "2   6 2024-02-20 19:15:00 2024-02-20 19:21:26  anonymous   NaN   \n",
       "3   7 2024-02-20 19:21:45 2024-02-20 19:26:07  anonymous   NaN   \n",
       "4   8 2024-02-20 20:40:56 2024-02-20 20:48:12  anonymous   NaN   \n",
       "\n",
       "   Last modified time                   Role                  Function  \\\n",
       "0                 NaN                Trainee                Operations   \n",
       "1                 NaN  Head of Business Unit      Finance & Accounting   \n",
       "2                 NaN                Trainee  Customer Service Support   \n",
       "3                 NaN  Head of Business Unit           Human Resources   \n",
       "4                 NaN                Trainee        Legal & Compliance   \n",
       "\n",
       "        Location  \\\n",
       "0           Asia   \n",
       "1         Europe   \n",
       "2  North America   \n",
       "3           Asia   \n",
       "4         Europe   \n",
       "\n",
       "  What HR processes do you interact with the most in your day-to-day work ?  \\\n",
       "0                                    Absences;Admin;                          \n",
       "1                         Performance;Talent ;Admin;                          \n",
       "2                    Onboading;Performance;Absences;                          \n",
       "3  Recruiting;Mobility;Performance;Talent ;Compen...                          \n",
       "4                                              None;                          \n",
       "\n",
       "   ...  \\\n",
       "0  ...   \n",
       "1  ...   \n",
       "2  ...   \n",
       "3  ...   \n",
       "4  ...   \n",
       "\n",
       "  Does the system allow employees to view their vacation counters (entitlement / taken / balance)?  \\\n",
       "0                                                NaN                                                 \n",
       "1                                                NaN                                                 \n",
       "2                                                NaN                                                 \n",
       "3                                                NaN                                                 \n",
       "4                                                NaN                                                 \n",
       "\n",
       "   Does your system cover all the shift scheduling functions you need?  \\\n",
       "0                                                NaN                     \n",
       "1                                                NaN                     \n",
       "2                                                NaN                     \n",
       "3                                                NaN                     \n",
       "4                                                NaN                     \n",
       "\n",
       "  Do you have the capability to run all the report needed ?  \\\n",
       "0                                                NaN          \n",
       "1                                                NaN          \n",
       "2                                                NaN          \n",
       "3                                                NaN          \n",
       "4                                                NaN          \n",
       "\n",
       "   According to you, what functionalities are missing from your current system ?  \\\n",
       "0                                                NaN                               \n",
       "1                                                NaN                               \n",
       "2                                                NaN                               \n",
       "3                                                NaN                               \n",
       "4                                                NaN                               \n",
       "\n",
       "  Does the system allow employees to take their own leave, with workflow validation by their manager or HR?  \\\n",
       "0                                                NaN                                                          \n",
       "1                                                NaN                                                          \n",
       "2                                                NaN                                                          \n",
       "3                                                NaN                                                          \n",
       "4                                                NaN                                                          \n",
       "\n",
       "  Does your system automatically take retroactive items into account (e.g. application to April payroll of a salary increase with an effective date of January 1)?  \\\n",
       "0                                                NaN                                                                                                                 \n",
       "1                                                NaN                                                                                                                 \n",
       "2                                                NaN                                                                                                                 \n",
       "3                                                NaN                                                                                                                 \n",
       "4                                                NaN                                                                                                                 \n",
       "\n",
       "  In the context of your job, what are the most valuable activities your current HRIS enable you to do?  \\\n",
       "0                                   take paid leaves                                                      \n",
       "1       following my team's day-to-day activity and                                                       \n",
       "2            time management and access to trainings                                                      \n",
       "3  performance reviews, training, resource manage...                                                      \n",
       "4                                      taking leaves                                                      \n",
       "\n",
       "   In the context of your job, what do your current HRIS fail to address?  \\\n",
       "0                                                NaN                        \n",
       "1                 lack of customization for my needs                        \n",
       "2          performance / career development planning                        \n",
       "3                                    time management                        \n",
       "4             administrative / personnal information                        \n",
       "\n",
       "  Do you consider the time you spend on your HRIS to be time well spent?  \\\n",
       "0                                                Yes                       \n",
       "1                                                 No                       \n",
       "2                                                 No                       \n",
       "3                                                Yes                       \n",
       "4                                                 No                       \n",
       "\n",
       "  In 3 words, how would you describe your current user-experience with the HRIS ?  \n",
       "0                     user-friendly, efficient, fast                               \n",
       "1                       complete, not very intuitive                               \n",
       "2                   complex, complete, not intuitive                               \n",
       "3                   intuitive, efficient, empowering                               \n",
       "4                    complex, not intuitive, useless                               \n",
       "\n",
       "[5 rows x 73 columns]"
      ]
     },
     "execution_count": 6,
     "metadata": {},
     "output_type": "execute_result"
    }
   ],
   "source": [
    "data.head()"
   ]
  },
  {
   "cell_type": "code",
   "execution_count": 7,
   "metadata": {},
   "outputs": [],
   "source": [
    "\n",
    "def plot_satisfaction_proportions(data_series, title):\n",
    "    # Count the occurrences of each score\n",
    "    score_counts = data_series.value_counts().sort_index().astype(int)\n",
    "\n",
    "    # Calculate the total counts for 'Satisfied' and 'Dissatisfied' categories\n",
    "    total_satisfied = score_counts.get(4, 0) + score_counts.get(5, 0)\n",
    "    total_dissatisfied = score_counts.get(1, 0) + score_counts.get(2, 0) + score_counts.get(3, 0)\n",
    "\n",
    "    # Calculate proportions for each score category\n",
    "    dissatisfied_proportions = [score_counts.get(i, 0) / total_dissatisfied if total_dissatisfied > 0 else 0 for i in range(1, 4)]\n",
    "    satisfied_proportions = [score_counts.get(i, 0) / total_satisfied if total_satisfied > 0 else 0 for i in range(4, 6)]\n",
    "\n",
    "    # Create the stacked bar chart\n",
    "    fig, ax = plt.subplots(figsize=(10, 2))\n",
    "\n",
    "    # Positions of the bars on the y-axis\n",
    "    bar_positions = [0, 1]\n",
    "\n",
    "    # Cumulative size for each segment to get the start position of the next segment\n",
    "    cumulative_size_dissatisfied = 0\n",
    "    cumulative_size_satisfied = 0\n",
    "\n",
    "    # Plot each score segment for 'Dissatisfied'\n",
    "    for i in range(3):\n",
    "        ax.barh(bar_positions[0], dissatisfied_proportions[i], left=cumulative_size_dissatisfied, edgecolor='white', color=sns.color_palette(\"Blues_d\", n_colors=3)[i])\n",
    "        cumulative_size_dissatisfied += dissatisfied_proportions[i]\n",
    "\n",
    "    # Plot each score segment for 'Satisfied'\n",
    "    for i in range(2):\n",
    "        ax.barh(bar_positions[1], satisfied_proportions[i], left=cumulative_size_satisfied, edgecolor='white', color=sns.color_palette(\"Greens_d\", n_colors=2)[i])\n",
    "        cumulative_size_satisfied += satisfied_proportions[i]\n",
    "\n",
    "    # Add labels and a title\n",
    "    ax.set_yticks([0, 1])\n",
    "    ax.set_yticklabels(['Dissatisfied', 'Satisfied'])\n",
    "    ax.set_title(title)\n",
    "\n",
    "    # Remove x-axis ticks for clarity\n",
    "    ax.set_xticks([])\n",
    "\n",
    "    # Add annotations for each segment\n",
    "    for i, prop in enumerate(dissatisfied_proportions):\n",
    "        ax.text(prop / 2 + sum(dissatisfied_proportions[:i]), 0, f'{i+1} ({prop:.0%})', va='center', ha='center', color='white')\n",
    "\n",
    "    for i, prop in enumerate(satisfied_proportions):\n",
    "        ax.text(prop / 2 + sum(satisfied_proportions[:i]), 1, f'{i+4} ({prop:.0%})', va='center', ha='center', color='white')\n",
    "\n",
    "    # Add annotation for the total count of dissatisfied\n",
    "    ax.text(1.05, 0, f'Total: {total_dissatisfied}', va='center', ha='left', color='black', fontsize=10)\n",
    "\n",
    "    # Add annotation for the total count of satisfied\n",
    "    ax.text(1.05, 1, f'Total: {total_satisfied}', va='center', ha='left', color='black', fontsize=10)\n",
    "\n",
    "    plt.show()\n",
    "\n"
   ]
  },
  {
   "cell_type": "code",
   "execution_count": 9,
   "metadata": {},
   "outputs": [],
   "source": [
    "import plotly.graph_objects as go\n",
    "import seaborn as sns  # 为颜色调色板使用\n",
    "\n",
    "def plot_satisfaction_proportions(data_series, title):\n",
    "    # 统计每个评分的数量\n",
    "    score_counts = data_series.value_counts().sort_index().astype(int)\n",
    "\n",
    "    # 计算 'Satisfied' 和 'Dissatisfied' 的总数量\n",
    "    total_satisfied = score_counts.get(4, 0) + score_counts.get(5, 0)\n",
    "    total_dissatisfied = score_counts.get(1, 0) + score_counts.get(2, 0) + score_counts.get(3, 0)\n",
    "\n",
    "    # 计算每个评分类别的比例\n",
    "    dissatisfied_proportions = [score_counts.get(i, 0) / total_dissatisfied if total_dissatisfied > 0 else 0 for i in range(1, 4)]\n",
    "    satisfied_proportions = [score_counts.get(i, 0) / total_satisfied if total_satisfied > 0 else 0 for i in range(4, 6)]\n",
    "\n",
    "    # 创建堆叠条形图\n",
    "    fig = go.Figure()\n",
    "\n",
    "    # 添加 'Dissatisfied' 部分\n",
    "    cumulative_size = 0\n",
    "    colors_dissatisfied = sns.color_palette(\"Blues_d\", n_colors=3)\n",
    "    for i, prop in enumerate(dissatisfied_proportions):\n",
    "        fig.add_trace(go.Bar(\n",
    "            x=[prop],\n",
    "            y=['Dissatisfied'],\n",
    "            name=f'{i+1}',\n",
    "            orientation='h',\n",
    "            text=f'{prop:.0%}',\n",
    "            marker=dict(color=f'rgb({colors_dissatisfied[i][0]*255},{colors_dissatisfied[i][1]*255},{colors_dissatisfied[i][2]*255})'),\n",
    "            base=cumulative_size\n",
    "        ))\n",
    "        cumulative_size += prop\n",
    "\n",
    "    # 添加 'Satisfied' 部分\n",
    "    cumulative_size = 0\n",
    "    colors_satisfied = sns.color_palette(\"Greens_d\", n_colors=2)\n",
    "    for i, prop in enumerate(satisfied_proportions):\n",
    "        fig.add_trace(go.Bar(\n",
    "            x=[prop],\n",
    "            y=['Satisfied'],\n",
    "            name=f'{i+4}',\n",
    "            orientation='h',\n",
    "            text=f'{prop:.0%}',\n",
    "            marker=dict(color=f'rgb({colors_satisfied[i][0]*255},{colors_satisfied[i][1]*255},{colors_satisfied[i][2]*255})'),\n",
    "            base=cumulative_size\n",
    "        ))\n",
    "        cumulative_size += prop\n",
    "\n",
    "    # 设置标题和图表样式\n",
    "    fig.update_layout(\n",
    "        title=title,\n",
    "        xaxis=dict(showgrid=False, zeroline=False, showticklabels=False),\n",
    "        yaxis=dict(showgrid=False, zeroline=False),\n",
    "        barmode='stack',\n",
    "        annotations=[\n",
    "            dict(x=1.05, y=0, text=f'Total: {total_dissatisfied}', showarrow=False, xref='x', yref='y'),\n",
    "            dict(x=1.05, y=1, text=f'Total: {total_satisfied}', showarrow=False, xref='x', yref='y')\n",
    "        ]\n",
    "    )\n",
    "\n",
    "    fig.show()  # 显示图表\n"
   ]
  },
  {
   "cell_type": "code",
   "execution_count": 11,
   "metadata": {},
   "outputs": [
    {
     "data": {
      "application/vnd.plotly.v1+json": {
       "config": {
        "plotlyServerURL": "https://plot.ly"
       },
       "data": [
        {
         "base": 0,
         "marker": {
          "color": "rgb(112.93856209150329,171.19084967320262,210.92679738562092)"
         },
         "name": "1",
         "orientation": "h",
         "text": "0%",
         "type": "bar",
         "x": [
          0
         ],
         "y": [
          "Dissatisfied"
         ]
        },
        {
         "base": 0,
         "marker": {
          "color": "rgb(54.984313725490196,134.67058823529413,191.77908496732027)"
         },
         "name": "2",
         "orientation": "h",
         "text": "25%",
         "type": "bar",
         "x": [
          0.25
         ],
         "y": [
          "Dissatisfied"
         ]
        },
        {
         "base": 0.25,
         "marker": {
          "color": "rgb(52.976470588235294,92.50588235294119,120.83529411764705)"
         },
         "name": "3",
         "orientation": "h",
         "text": "75%",
         "type": "bar",
         "x": [
          0.75
         ],
         "y": [
          "Dissatisfied"
         ]
        },
        {
         "base": 0,
         "marker": {
          "color": "rgb(94.55555555555557,181.0,112.44444444444444)"
         },
         "name": "4",
         "orientation": "h",
         "text": "50%",
         "type": "bar",
         "x": [
          0.5
         ],
         "y": [
          "Satisfied"
         ]
        },
        {
         "base": 0.5,
         "marker": {
          "color": "rgb(53.666666666666664,123.88888888888889,73.66666666666666)"
         },
         "name": "5",
         "orientation": "h",
         "text": "50%",
         "type": "bar",
         "x": [
          0.5
         ],
         "y": [
          "Satisfied"
         ]
        }
       ],
       "layout": {
        "annotations": [
         {
          "showarrow": false,
          "text": "Total: 4",
          "x": 1.05,
          "xref": "x",
          "y": 0,
          "yref": "y"
         },
         {
          "showarrow": false,
          "text": "Total: 6",
          "x": 1.05,
          "xref": "x",
          "y": 1,
          "yref": "y"
         }
        ],
        "barmode": "stack",
        "template": {
         "data": {
          "candlestick": [
           {
            "decreasing": {
             "line": {
              "color": "#000033"
             }
            },
            "increasing": {
             "line": {
              "color": "#000032"
             }
            },
            "type": "candlestick"
           }
          ],
          "contour": [
           {
            "colorscale": [
             [
              0,
              "#000011"
             ],
             [
              0.1111111111111111,
              "#000012"
             ],
             [
              0.2222222222222222,
              "#000013"
             ],
             [
              0.3333333333333333,
              "#000014"
             ],
             [
              0.4444444444444444,
              "#000015"
             ],
             [
              0.5555555555555556,
              "#000016"
             ],
             [
              0.6666666666666666,
              "#000017"
             ],
             [
              0.7777777777777778,
              "#000018"
             ],
             [
              0.8888888888888888,
              "#000019"
             ],
             [
              1,
              "#000020"
             ]
            ],
            "type": "contour"
           }
          ],
          "contourcarpet": [
           {
            "colorscale": [
             [
              0,
              "#000011"
             ],
             [
              0.1111111111111111,
              "#000012"
             ],
             [
              0.2222222222222222,
              "#000013"
             ],
             [
              0.3333333333333333,
              "#000014"
             ],
             [
              0.4444444444444444,
              "#000015"
             ],
             [
              0.5555555555555556,
              "#000016"
             ],
             [
              0.6666666666666666,
              "#000017"
             ],
             [
              0.7777777777777778,
              "#000018"
             ],
             [
              0.8888888888888888,
              "#000019"
             ],
             [
              1,
              "#000020"
             ]
            ],
            "type": "contourcarpet"
           }
          ],
          "heatmap": [
           {
            "colorscale": [
             [
              0,
              "#000011"
             ],
             [
              0.1111111111111111,
              "#000012"
             ],
             [
              0.2222222222222222,
              "#000013"
             ],
             [
              0.3333333333333333,
              "#000014"
             ],
             [
              0.4444444444444444,
              "#000015"
             ],
             [
              0.5555555555555556,
              "#000016"
             ],
             [
              0.6666666666666666,
              "#000017"
             ],
             [
              0.7777777777777778,
              "#000018"
             ],
             [
              0.8888888888888888,
              "#000019"
             ],
             [
              1,
              "#000020"
             ]
            ],
            "type": "heatmap"
           }
          ],
          "histogram2d": [
           {
            "colorscale": [
             [
              0,
              "#000011"
             ],
             [
              0.1111111111111111,
              "#000012"
             ],
             [
              0.2222222222222222,
              "#000013"
             ],
             [
              0.3333333333333333,
              "#000014"
             ],
             [
              0.4444444444444444,
              "#000015"
             ],
             [
              0.5555555555555556,
              "#000016"
             ],
             [
              0.6666666666666666,
              "#000017"
             ],
             [
              0.7777777777777778,
              "#000018"
             ],
             [
              0.8888888888888888,
              "#000019"
             ],
             [
              1,
              "#000020"
             ]
            ],
            "type": "histogram2d"
           }
          ],
          "icicle": [
           {
            "textfont": {
             "color": "white"
            },
            "type": "icicle"
           }
          ],
          "sankey": [
           {
            "textfont": {
             "color": "#000036"
            },
            "type": "sankey"
           }
          ],
          "scatter": [
           {
            "marker": {
             "line": {
              "width": 0
             }
            },
            "type": "scatter"
           }
          ],
          "table": [
           {
            "cells": {
             "fill": {
              "color": "#000038"
             },
             "font": {
              "color": "#000037"
             },
             "line": {
              "color": "#000039"
             }
            },
            "header": {
             "fill": {
              "color": "#000040"
             },
             "font": {
              "color": "#000036"
             },
             "line": {
              "color": "#000039"
             }
            },
            "type": "table"
           }
          ],
          "waterfall": [
           {
            "connector": {
             "line": {
              "color": "#000036",
              "width": 2
             }
            },
            "decreasing": {
             "marker": {
              "color": "#000033"
             }
            },
            "increasing": {
             "marker": {
              "color": "#000032"
             }
            },
            "totals": {
             "marker": {
              "color": "#000034"
             }
            },
            "type": "waterfall"
           }
          ]
         },
         "layout": {
          "coloraxis": {
           "colorscale": [
            [
             0,
             "#000011"
            ],
            [
             0.1111111111111111,
             "#000012"
            ],
            [
             0.2222222222222222,
             "#000013"
            ],
            [
             0.3333333333333333,
             "#000014"
            ],
            [
             0.4444444444444444,
             "#000015"
            ],
            [
             0.5555555555555556,
             "#000016"
            ],
            [
             0.6666666666666666,
             "#000017"
            ],
            [
             0.7777777777777778,
             "#000018"
            ],
            [
             0.8888888888888888,
             "#000019"
            ],
            [
             1,
             "#000020"
            ]
           ]
          },
          "colorscale": {
           "diverging": [
            [
             0,
             "#000021"
            ],
            [
             0.1,
             "#000022"
            ],
            [
             0.2,
             "#000023"
            ],
            [
             0.3,
             "#000024"
            ],
            [
             0.4,
             "#000025"
            ],
            [
             0.5,
             "#000026"
            ],
            [
             0.6,
             "#000027"
            ],
            [
             0.7,
             "#000028"
            ],
            [
             0.8,
             "#000029"
            ],
            [
             0.9,
             "#000030"
            ],
            [
             1,
             "#000031"
            ]
           ],
           "sequential": [
            [
             0,
             "#000011"
            ],
            [
             0.1111111111111111,
             "#000012"
            ],
            [
             0.2222222222222222,
             "#000013"
            ],
            [
             0.3333333333333333,
             "#000014"
            ],
            [
             0.4444444444444444,
             "#000015"
            ],
            [
             0.5555555555555556,
             "#000016"
            ],
            [
             0.6666666666666666,
             "#000017"
            ],
            [
             0.7777777777777778,
             "#000018"
            ],
            [
             0.8888888888888888,
             "#000019"
            ],
            [
             1,
             "#000020"
            ]
           ],
           "sequentialminus": [
            [
             0,
             "#000011"
            ],
            [
             0.1111111111111111,
             "#000012"
            ],
            [
             0.2222222222222222,
             "#000013"
            ],
            [
             0.3333333333333333,
             "#000014"
            ],
            [
             0.4444444444444444,
             "#000015"
            ],
            [
             0.5555555555555556,
             "#000016"
            ],
            [
             0.6666666666666666,
             "#000017"
            ],
            [
             0.7777777777777778,
             "#000018"
            ],
            [
             0.8888888888888888,
             "#000019"
            ],
            [
             1,
             "#000020"
            ]
           ]
          },
          "colorway": [
           "#000001",
           "#000002",
           "#000003",
           "#000004",
           "#000005",
           "#000006",
           "#000007",
           "#000008",
           "#000009",
           "#000010"
          ]
         }
        },
        "title": {
         "text": "Proportion of Onboarding Process Satisfaction Scores"
        },
        "xaxis": {
         "showgrid": false,
         "showticklabels": false,
         "zeroline": false
        },
        "yaxis": {
         "showgrid": false,
         "zeroline": false
        }
       }
      }
     },
     "metadata": {},
     "output_type": "display_data"
    }
   ],
   "source": [
    "plot_satisfaction_proportions(data['From 1 to 5, how would you rate the onboarding process ?'], 'Proportion of Onboarding Process Satisfaction Scores')\n"
   ]
  }
 ],
 "metadata": {
  "kernelspec": {
   "display_name": "Python 3.8.5 ('base')",
   "language": "python",
   "name": "python3"
  },
  "language_info": {
   "codemirror_mode": {
    "name": "ipython",
    "version": 3
   },
   "file_extension": ".py",
   "mimetype": "text/x-python",
   "name": "python",
   "nbconvert_exporter": "python",
   "pygments_lexer": "ipython3",
   "version": "3.8.5"
  },
  "orig_nbformat": 4,
  "vscode": {
   "interpreter": {
    "hash": "fd75362e27048f1ead3b65beb4812b1da3d387150557ce53b099093c32022a5e"
   }
  }
 },
 "nbformat": 4,
 "nbformat_minor": 2
}
